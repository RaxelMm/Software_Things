{
 "cells": [
  {
   "cell_type": "code",
   "execution_count": 24,
   "metadata": {},
   "outputs": [
    {
     "name": "stdout",
     "output_type": "stream",
     "text": [
      "el area del rectangulo es 30.0\n",
      "100.0\n",
      "12.566370614359172\n",
      "15.0\n"
     ]
    }
   ],
   "source": [
    "import math\n",
    "class Figuras:\n",
    "    def __init__(self,base,altura,radio):\n",
    "        self.base = base\n",
    "        self.altura = altura \n",
    "        self.radio = radio\n",
    "\n",
    "    def calcular_Rectangulo(self):\n",
    "        res = self.base * self.altura\n",
    "        print(f\"el area del rectangulo es {res}\")\n",
    "    \n",
    "    def calcular_cuadrado(self):\n",
    "        res_2 = self.base**2\n",
    "        print (res_2)\n",
    "\n",
    "    def calcular_circulo(self):\n",
    "        res_3 = math.pi*math.pow(self.radio,2)\n",
    "        print (res_3)\n",
    "    def calcular_triangulo(self):\n",
    "        res_4 = (self.base * self.altura)/2\n",
    "        print(res_4)\n",
    "\n",
    "class rectangulo(Figuras):\n",
    "\n",
    "    def __init__(self, base, altura,radio):\n",
    "        super().__init__(base, altura,radio)      \n",
    "\n",
    "\n",
    "    def calculos(self):\n",
    "        super().calcular_Rectangulo()\n",
    "        super().calcular_cuadrado()\n",
    "        super().calcular_circulo()\n",
    "        super().calcular_triangulo()\n",
    "\n",
    "base = float (input(\"Deme la base\"))\n",
    "altura = float (input(\"Deme la altura\"))\n",
    "radio = float (input(\"Deme el radio\"))\n",
    "objeto = rectangulo(base,altura,radio)\n",
    "objeto.calculos()\n",
    "\n",
    "        "
   ]
  },
  {
   "cell_type": "code",
   "execution_count": null,
   "metadata": {},
   "outputs": [],
   "source": []
  }
 ],
 "metadata": {
  "kernelspec": {
   "display_name": "base",
   "language": "python",
   "name": "python3"
  },
  "language_info": {
   "codemirror_mode": {
    "name": "ipython",
    "version": 3
   },
   "file_extension": ".py",
   "mimetype": "text/x-python",
   "name": "python",
   "nbconvert_exporter": "python",
   "pygments_lexer": "ipython3",
   "version": "3.11.5"
  }
 },
 "nbformat": 4,
 "nbformat_minor": 2
}
