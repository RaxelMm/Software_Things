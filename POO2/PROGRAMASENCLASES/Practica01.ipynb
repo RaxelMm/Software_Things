{
 "cells": [
  {
   "cell_type": "code",
   "id": "2d4802c8-222f-4b6f-bcb1-6758c9154ffa",
   "metadata": {
    "jupyter": {
     "is_executing": true
    }
   },
   "source": [
    "class Estado:\n",
    "    def __init__(self, estado, capital, pais):\n",
    "        self.capital = capital\n",
    "        self.estado = estado\n",
    "        self.pais = pais\n",
    "\n",
    "\n",
    "un_estado = Estado(estado=\"Zacatecas\", capital=\"Guadalupe\", pais=\"Mexico\")\n",
    "\n",
    "\n",
    "print(un_estado.estado)  \n",
    "print(un_estado.capital)  \n",
    "print(un_estado.pais)  \n"
   ],
   "outputs": [],
   "execution_count": null
  },
  {
   "cell_type": "code",
   "id": "ba863f62-6608-471b-a459-c9ea933bd6ec",
   "metadata": {
    "jupyter": {
     "is_executing": true
    }
   },
   "source": [
    "class OperacionesBasicas:\n",
    "    def sumar(self):\n",
    "        return self.n1 + self.n2\n",
    "\n",
    "    def resta(self):\n",
    "        return self.n1 - self.n2\n",
    "\n",
    "    def mult(self):\n",
    "        return self.n1 * self.n2\n",
    "\n",
    "    def div(self):\n",
    "        return self.n1 / self.n2\n",
    "\n",
    "operacion = OperacionesBasicas()\n",
    "operacion.n1 = 5\n",
    "operacion.n2 = 10\n",
    "\n",
    "print(operacion.sumar())  # 5 + 10 = 15\n",
    "print(operacion.resta())  # 5 - 10 = -5\n",
    "print(operacion.mult())   # 5 * 10 = 50\n",
    "print(operacion.div())    # 5 / 10 = 0.5\n"
   ],
   "outputs": [],
   "execution_count": null
  },
  {
   "cell_type": "code",
   "id": "611a94c7-5490-4f17-8e55-2fb0b74ec1aa",
   "metadata": {
    "jupyter": {
     "is_executing": true
    }
   },
   "source": [
    "import math\n",
    "\n",
    "class Triangulo:\n",
    "    def solicitar_datos(self):\n",
    "        self.h = float(input(\"Ingrese la longitud de la hipotenusa: \"))\n",
    "        self.co = float(input(\"Ingrese la longitud de un cateto: \"))\n",
    "\n",
    "        print(f\"Datos ingresados: Hipotenusa = {self.h}, Cateto conocido = {self.co}\")\n",
    "\n",
    "    def calcularCa(self):\n",
    "        ca = math.sqrt(self.h ** 2 - self.co ** 2)\n",
    "        print(f\"La longitud del otro cateto es: {ca}\")\n",
    "        return ca\n",
    "\n",
    "\n",
    "\n",
    "triangulo = Triangulo()\n",
    "triangulo.solicitar_datos()\n",
    "triangulo.calcularCa()\n",
    "\n"
   ],
   "outputs": [],
   "execution_count": null
  },
  {
   "cell_type": "code",
   "id": "691d5a5e-7021-48ee-987e-48eb07890470",
   "metadata": {
    "jupyter": {
     "is_executing": true
    }
   },
   "source": [],
   "outputs": [],
   "execution_count": null
  },
  {
   "cell_type": "code",
   "id": "78549a58-87e8-4b3b-96ec-139cc952feab",
   "metadata": {
    "jupyter": {
     "is_executing": true
    }
   },
   "source": [],
   "outputs": [],
   "execution_count": null
  },
  {
   "cell_type": "code",
   "id": "5f974dc2-97a0-4b29-be76-9f5e3e6d55e3",
   "metadata": {
    "jupyter": {
     "is_executing": true
    }
   },
   "source": [],
   "outputs": [],
   "execution_count": null
  },
  {
   "cell_type": "code",
   "id": "f5e39f48-0706-4e36-96b7-df1e51fbe3d2",
   "metadata": {
    "jupyter": {
     "is_executing": true
    }
   },
   "source": [],
   "outputs": [],
   "execution_count": null
  },
  {
   "cell_type": "code",
   "id": "66c6c77c-9861-4a69-8c4a-7d892b1657d1",
   "metadata": {
    "jupyter": {
     "is_executing": true
    }
   },
   "source": [],
   "outputs": [],
   "execution_count": null
  }
 ],
 "metadata": {
  "kernelspec": {
   "display_name": "base",
   "language": "python",
   "name": "python3"
  },
  "language_info": {
   "codemirror_mode": {
    "name": "ipython",
    "version": 3
   },
   "file_extension": ".py",
   "mimetype": "text/x-python",
   "name": "python",
   "nbconvert_exporter": "python",
   "pygments_lexer": "ipython3",
   "version": "3.11.5"
  }
 },
 "nbformat": 4,
 "nbformat_minor": 5
}
