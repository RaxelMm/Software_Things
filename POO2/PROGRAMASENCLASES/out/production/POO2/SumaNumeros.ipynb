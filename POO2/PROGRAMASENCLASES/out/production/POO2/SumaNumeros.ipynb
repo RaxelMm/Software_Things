{
 "cells": [
  {
   "cell_type": "code",
   "execution_count": 6,
   "id": "1b07796f-9b19-48c9-8bde-daa46ac8c0fb",
   "metadata": {},
   "outputs": [
    {
     "name": "stdin",
     "output_type": "stream",
     "text": [
      " deme un numero 6\n",
      " deme un numero 8\n"
     ]
    },
    {
     "name": "stdout",
     "output_type": "stream",
     "text": [
      "la suma de 6 y 8 es 14\n"
     ]
    }
   ],
   "source": [
    "class Suma:\n",
    "    def Sumar(self,A,B,resultado):\n",
    "        print(f\"la suma de {A} y {B} es {resultado}\")\n",
    "objeto=Suma()\n",
    "n = int (input (\" deme un numero\"))\n",
    "m = int (input (\" deme un numero\"))\n",
    "E = n + m \n",
    "objeto.Sumar(n , m ,E)\n",
    "    \n",
    "    "
   ]
  },
  {
   "cell_type": "code",
   "execution_count": null,
   "id": "13986e88-252f-4d6e-94cf-0cd1eac06acd",
   "metadata": {},
   "outputs": [],
   "source": []
  }
 ],
 "metadata": {
  "kernelspec": {
   "display_name": "Python [conda env:base] *",
   "language": "python",
   "name": "conda-base-py"
  },
  "language_info": {
   "codemirror_mode": {
    "name": "ipython",
    "version": 3
   },
   "file_extension": ".py",
   "mimetype": "text/x-python",
   "name": "python",
   "nbconvert_exporter": "python",
   "pygments_lexer": "ipython3",
   "version": "3.11.5"
  }
 },
 "nbformat": 4,
 "nbformat_minor": 5
}
