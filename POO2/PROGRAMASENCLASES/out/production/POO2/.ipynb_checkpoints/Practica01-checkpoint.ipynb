{
 "cells": [
  {
   "cell_type": "code",
   "execution_count": 17,
   "id": "2d4802c8-222f-4b6f-bcb1-6758c9154ffa",
   "metadata": {},
   "outputs": [
    {
     "name": "stdout",
     "output_type": "stream",
     "text": [
      "Zacatecas\n",
      "Guadalupe\n",
      "Mexico\n"
     ]
    }
   ],
   "source": [
    "class Estado:\n",
    "    def __init__(self, estado, capital, pais):\n",
    "        self.capital = capital\n",
    "        self.estado = estado\n",
    "        self.pais = pais\n",
    "\n",
    "\n",
    "un_estado = Estado(estado=\"Zacatecas\", capital=\"Guadalupe\", pais=\"Mexico\")\n",
    "\n",
    "\n",
    "print(un_estado.estado)  \n",
    "print(un_estado.capital)  \n",
    "print(un_estado.pais)  \n"
   ]
  },
  {
   "cell_type": "code",
   "execution_count": 11,
   "id": "ba863f62-6608-471b-a459-c9ea933bd6ec",
   "metadata": {},
   "outputs": [
    {
     "name": "stdout",
     "output_type": "stream",
     "text": [
      "15\n",
      "-5\n",
      "50\n",
      "0.5\n"
     ]
    }
   ],
   "source": [
    "class OperacionesBasicas:\n",
    "    def sumar(self):\n",
    "        return self.n1 + self.n2\n",
    "\n",
    "    def resta(self):\n",
    "        return self.n1 - self.n2\n",
    "\n",
    "    def mult(self):\n",
    "        return self.n1 * self.n2\n",
    "\n",
    "    def div(self):\n",
    "        return self.n1 / self.n2\n",
    "\n",
    "# Crear objeto y asignar atributos manualmente\n",
    "operacion = OperacionesBasicas()\n",
    "operacion.n1 = 5\n",
    "operacion.n2 = 10\n",
    "\n",
    "print(operacion.sumar())  # 5 + 10 = 15\n",
    "print(operacion.resta())  # 5 - 10 = -5\n",
    "print(operacion.mult())   # 5 * 10 = 50\n",
    "print(operacion.div())    # 5 / 10 = 0.5\n"
   ]
  },
  {
   "cell_type": "code",
   "execution_count": 13,
   "id": "611a94c7-5490-4f17-8e55-2fb0b74ec1aa",
   "metadata": {},
   "outputs": [
    {
     "name": "stdout",
     "output_type": "stream",
     "text": [
      "4.0\n",
      "2.23606797749979\n",
      "6.4031242374328485\n"
     ]
    }
   ],
   "source": [
    "import math\n",
    "\n",
    "class Triangulo:\n",
    "    def calcularH(self):\n",
    "        return math.sqrt(self.co ** 2 + self.ca ** 2)\n",
    "\n",
    "    def calcularCa(self):\n",
    "        return math.sqrt(self.h ** 2 - self.co ** 2)\n",
    "\n",
    "    def calcularCo(self):\n",
    "        return math.sqrt(self.h ** 2 - self.ca ** 2)\n",
    "\n",
    "\n",
    "# Crear un objeto y asignar atributos manualmente\n",
    "triangulo = Triangulo()\n",
    "triangulo.co = 3\n",
    "triangulo.h = 5\n",
    "print(triangulo.calcularCa())  # Calcula \"ca\"\n",
    "\n",
    "triangulo2 = Triangulo()\n",
    "triangulo2.ca = 2\n",
    "triangulo2.h = 3\n",
    "print(triangulo2.calcularCo())  # Calcula \"co\"\n",
    "\n",
    "triangulo3 = Triangulo()\n",
    "triangulo3.ca = 5\n",
    "triangulo3.co = 4\n",
    "print(triangulo3.calcularH())  # Calcula \"h\"\n"
   ]
  },
  {
   "cell_type": "code",
   "execution_count": null,
   "id": "4c03b05b-ee5a-4ae8-bb3f-14286b37bdbf",
   "metadata": {},
   "outputs": [],
   "source": []
  },
  {
   "cell_type": "code",
   "execution_count": null,
   "id": "691d5a5e-7021-48ee-987e-48eb07890470",
   "metadata": {},
   "outputs": [],
   "source": []
  },
  {
   "cell_type": "code",
   "execution_count": null,
   "id": "78549a58-87e8-4b3b-96ec-139cc952feab",
   "metadata": {},
   "outputs": [],
   "source": []
  },
  {
   "cell_type": "code",
   "execution_count": null,
   "id": "5f974dc2-97a0-4b29-be76-9f5e3e6d55e3",
   "metadata": {},
   "outputs": [],
   "source": []
  },
  {
   "cell_type": "code",
   "execution_count": null,
   "id": "f5e39f48-0706-4e36-96b7-df1e51fbe3d2",
   "metadata": {},
   "outputs": [],
   "source": []
  },
  {
   "cell_type": "code",
   "execution_count": null,
   "id": "66c6c77c-9861-4a69-8c4a-7d892b1657d1",
   "metadata": {},
   "outputs": [],
   "source": []
  }
 ],
 "metadata": {
  "kernelspec": {
   "display_name": "Python [conda env:base] *",
   "language": "python",
   "name": "conda-base-py"
  },
  "language_info": {
   "codemirror_mode": {
    "name": "ipython",
    "version": 3
   },
   "file_extension": ".py",
   "mimetype": "text/x-python",
   "name": "python",
   "nbconvert_exporter": "python",
   "pygments_lexer": "ipython3",
   "version": "3.11.5"
  }
 },
 "nbformat": 4,
 "nbformat_minor": 5
}
