{
 "cells": [
  {
   "cell_type": "code",
   "execution_count": 9,
   "id": "7da0963a-0497-4455-9b20-0853b1a5822a",
   "metadata": {},
   "outputs": [
    {
     "name": "stdin",
     "output_type": "stream",
     "text": [
      "Ingrese su Nombre Axel\n",
      "Ingrese su edad  19\n"
     ]
    },
    {
     "name": "stdout",
     "output_type": "stream",
     "text": [
      "Hola me llamo Axel y tengo 19 años \n"
     ]
    }
   ],
   "source": [
    "class Persona:\n",
    "    def saludar(self,Nombre,Edad):\n",
    "        print (f\"Hola me llamo {Nombre} y tengo {Edad} años \")\n",
    "objeto=Persona()\n",
    "n = input (\"Ingrese su Nombre\")\n",
    "E = int ( input (\"Ingrese su edad \"))\n",
    "objeto.saludar(n,E)"
   ]
  },
  {
   "cell_type": "code",
   "execution_count": null,
   "id": "23ee5c47-f4ac-48e9-9172-3f61d674d7cf",
   "metadata": {},
   "outputs": [],
   "source": []
  }
 ],
 "metadata": {
  "kernelspec": {
   "display_name": "Python [conda env:base] *",
   "language": "python",
   "name": "conda-base-py"
  },
  "language_info": {
   "codemirror_mode": {
    "name": "ipython",
    "version": 3
   },
   "file_extension": ".py",
   "mimetype": "text/x-python",
   "name": "python",
   "nbconvert_exporter": "python",
   "pygments_lexer": "ipython3",
   "version": "3.11.5"
  }
 },
 "nbformat": 4,
 "nbformat_minor": 5
}
