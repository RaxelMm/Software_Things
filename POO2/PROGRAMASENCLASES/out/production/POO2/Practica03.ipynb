{
 "cells": [
  {
   "cell_type": "code",
   "execution_count": 1,
   "metadata": {},
   "outputs": [
    {
     "name": "stdout",
     "output_type": "stream",
     "text": [
      "Practica03 [numero_habitacion=5, cliente=Luis Manuel, fecha_checkin=05/02/2024, fecha_checkout=10/02/2024]\n",
      "Días de estadía: 5\n"
     ]
    }
   ],
   "source": [
    "from datetime import datetime\n",
    "\n",
    "class Practica03:\n",
    "    class TipoHabitaciones:\n",
    "        INDIVIDUAL = \"INDIVIDUAL\"\n",
    "        DOBLE = \"DOBLE\"\n",
    "        SUITE = \"SUITE\"\n",
    "    \n",
    "    def __init__(self, numero_habitacion, cliente, fecha_checkin, fecha_checkout):\n",
    "        self.numero_habitacion = numero_habitacion\n",
    "        self.cliente = cliente\n",
    "        self.fecha_checkin = fecha_checkin\n",
    "        self.fecha_checkout = fecha_checkout\n",
    "    \n",
    "    def calcular_dias_estadia(self):\n",
    "        diferencia = self.fecha_checkout - self.fecha_checkin\n",
    "        return diferencia.days\n",
    "    \n",
    "    def __str__(self):\n",
    "        return f\"Practica03 [numero_habitacion={self.numero_habitacion}, cliente={self.cliente}, \" \\\n",
    "               f\"fecha_checkin={self.fecha_checkin.strftime('%d/%m/%Y')}, \" \\\n",
    "               f\"fecha_checkout={self.fecha_checkout.strftime('%d/%m/%Y')}]\"\n",
    "\n",
    "if __name__ == \"__main__\":\n",
    "    try:\n",
    "        formato_fecha = \"%d/%m/%Y\"\n",
    "        fecha_checkin = datetime.strptime(\"05/02/2024\", formato_fecha)\n",
    "        fecha_checkout = datetime.strptime(\"10/02/2024\", formato_fecha)\n",
    "\n",
    "        cliente = Practica03(5, \"Luis Manuel\", fecha_checkin, fecha_checkout)\n",
    "        \n",
    "        print(cliente)\n",
    "        print(f\"Días de estadía: {cliente.calcular_dias_estadia()}\")\n",
    "    except Exception as e:\n",
    "        print(\"Error al asignar la fecha.\", e)\n"
   ]
  }
 ],
 "metadata": {
  "kernelspec": {
   "display_name": "base",
   "language": "python",
   "name": "python3"
  },
  "language_info": {
   "codemirror_mode": {
    "name": "ipython",
    "version": 3
   },
   "file_extension": ".py",
   "mimetype": "text/x-python",
   "name": "python",
   "nbconvert_exporter": "python",
   "pygments_lexer": "ipython3",
   "version": "3.11.5"
  }
 },
 "nbformat": 4,
 "nbformat_minor": 2
}
