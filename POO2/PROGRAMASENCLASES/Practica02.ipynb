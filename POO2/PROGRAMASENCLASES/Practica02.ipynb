{
 "cells": [
  {
   "cell_type": "code",
   "execution_count": null,
   "metadata": {},
   "outputs": [
    {
     "name": "stdout",
     "output_type": "stream",
     "text": [
      "Resultado con costo de producción: 600.00\n",
      "Precio con IVA: 580.00\n",
      "Precio final con costo de producción e IVA:  1180.0\n"
     ]
    },
    {
     "data": {
      "text/plain": [
       "1180.0"
      ]
     },
     "execution_count": 5,
     "metadata": {},
     "output_type": "execute_result"
    }
   ],
   "source": [
    "class Calcular:\n",
    "    def __init__(self, pv, iva=0.16):\n",
    "        self.pv = pv  \n",
    "        self.iva = iva  \n",
    "\n",
    "    def calcularX(self):\n",
    "        x = self.pv * 1.2\n",
    "        print(f\"Resultado con costo de producción: {x:.2f}\")  \n",
    "        return x\n",
    "\n",
    "    def calcularPrecio(self):\n",
    "        precio_final = self.pv * (1 + self.iva)\n",
    "        print(f\"Precio con IVA: {precio_final:.2f}\")\n",
    "        return precio_final\n",
    "    \n",
    "    def calcularFinal(self):\n",
    "        costo_produccion = self.pv * 1.2\n",
    "        precio_con_iva = self.pv * (1 + self.iva)\n",
    "        final = costo_produccion + precio_con_iva  \n",
    "        print(f\"Precio final con costo de producción e IVA: \",final)\n",
    "        return final\n",
    "\n",
    "\n",
    "pv = float(input(\"Ingrese el precio de venta: \"))\n",
    "calculadora = Calcular(pv)\n",
    "\n",
    "\n",
    "calculadora.calcularX()\n",
    "calculadora.calcularPrecio()\n",
    "calculadora.calcularFinal()\n"
   ]
  },
  {
   "cell_type": "code",
   "execution_count": 11,
   "metadata": {},
   "outputs": [
    {
     "name": "stdout",
     "output_type": "stream",
     "text": [
      "Sus grados farenheit son  10.0\n",
      "Los grados en Celsius es  -12.222222222222221\n",
      "Los grados en Kelvin son  260.92777777777775\n"
     ]
    },
    {
     "data": {
      "text/plain": [
       "260.92777777777775"
      ]
     },
     "execution_count": 11,
     "metadata": {},
     "output_type": "execute_result"
    }
   ],
   "source": [
    "class Temperaturas :\n",
    "    def __init__(self,temp):\n",
    "        self.temp = temp\n",
    "    def GradosF(self):\n",
    "        far = self.temp\n",
    "        print(\"Sus grados farenheit son \",far )\n",
    "        return far\n",
    "    def ConvertirACel(self):\n",
    "        Cel = (self.temp - 32 )/1.8\n",
    "        print (\"Los grados en Celsius son \",Cel)\n",
    "        return Cel\n",
    "    def ConvertirAKel(self):\n",
    "        Kel = ((self.temp-32)/1.8)+273.15\n",
    "        print(\"Los grados en Kelvin son \", Kel)\n",
    "        return Kel\n",
    "\n",
    "temp = float(input(\"Ingrese la temperatura Farenheit\"))\n",
    "objeto = Temperaturas(temp)\n",
    "objeto.GradosF()\n",
    "objeto.ConvertirACel()\n",
    "objeto.ConvertirAKel()\n",
    "    "
   ]
  },
  {
   "cell_type": "code",
   "execution_count": 16,
   "metadata": {},
   "outputs": [
    {
     "name": "stdout",
     "output_type": "stream",
     "text": [
      "El volumen de su cilindro de Altura :  4.0 y radio 3.0 es 113.09733552923255\n"
     ]
    },
    {
     "data": {
      "text/plain": [
       "113.09733552923255"
      ]
     },
     "execution_count": 16,
     "metadata": {},
     "output_type": "execute_result"
    }
   ],
   "source": [
    "import math\n",
    "class Volumen:\n",
    "    def __init__(self,altura,radio):\n",
    "        self.altura = altura\n",
    "        self.radio = radio\n",
    "\n",
    "    def CalcularVolumen(self):\n",
    "        volumen = math.pi * math.pow(self.radio,2)*self.altura\n",
    "        print(\"El volumen de su cilindro de Altura : \",self.altura,\"y radio\",self.radio,\"es\",volumen)\n",
    "        return volumen\n",
    "\n",
    "area = (float(input(\"deme al area: \")))\n",
    "altura = (float(input ( \"deme la altura \")))\n",
    "radio = (float(input (\"deme el radio \")))\n",
    "\n",
    "objeto = Volumen(altura,radio)\n",
    "objeto.CalcularVolumen()"
   ]
  }
 ],
 "metadata": {
  "kernelspec": {
   "display_name": "base",
   "language": "python",
   "name": "python3"
  },
  "language_info": {
   "codemirror_mode": {
    "name": "ipython",
    "version": 3
   },
   "file_extension": ".py",
   "mimetype": "text/x-python",
   "name": "python",
   "nbconvert_exporter": "python",
   "pygments_lexer": "ipython3",
   "version": "3.11.5"
  }
 },
 "nbformat": 4,
 "nbformat_minor": 2
}
