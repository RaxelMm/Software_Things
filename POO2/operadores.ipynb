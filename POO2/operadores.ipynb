{
 "cells": [
  {
   "cell_type": "code",
   "execution_count": 1,
   "metadata": {},
   "outputs": [],
   "source": [
    "# Establcecer la conexion\n",
    "import mysql.connector\n",
    "\n",
    "conexion = mysql.connector.connect(\n",
    "    host = \"localhost\",\n",
    "    user = \"root\",\n",
    "    password = \"274138355\",\n",
    "    database = \"operadores\"\n",
    "  \n",
    "\n",
    ")"
   ]
  },
  {
   "cell_type": "code",
   "execution_count": 2,
   "metadata": {},
   "outputs": [],
   "source": [
    "cursor = conexion.cursor()\n"
   ]
  },
  {
   "cell_type": "code",
   "execution_count": 3,
   "metadata": {},
   "outputs": [
    {
     "name": "stdout",
     "output_type": "stream",
     "text": [
      "Base de Datos creada exitosamente\n"
     ]
    }
   ],
   "source": [
    "cursor.execute(\"CREATE DATABASE IF NOT EXISTS operadores \")\n",
    "cursor.execute(\"USE operadores\")\n",
    "print(\"Base de Datos creada exitosamente\")"
   ]
  },
  {
   "cell_type": "code",
   "execution_count": 4,
   "metadata": {},
   "outputs": [],
   "source": [
    "cursor.execute(\"\"\"\n",
    "    CREATE TABLE IF NOT EXISTS empleados (\n",
    "        id INT AUTO_INCREMENT PRIMARY KEY,\n",
    "        nombre VARCHAR(100),\n",
    "        apellido VARCHAR(100),\n",
    "        edad INT,\n",
    "        salario DECIMAL(10,2),\n",
    "        operaciones DECIMAL(10,2)\n",
    "        \n",
    "               \n",
    "    )\n",
    "\"\"\")\n"
   ]
  },
  {
   "cell_type": "code",
   "execution_count": null,
   "metadata": {},
   "outputs": [],
   "source": []
  },
  {
   "cell_type": "code",
   "execution_count": null,
   "metadata": {},
   "outputs": [],
   "source": [
    "cursor.execute(\"ALTER TABLE empleados MODIFY COLUMN operaciones DECIMAL(10,2) DEFAULT 0.00\")"
   ]
  },
  {
   "cell_type": "code",
   "execution_count": null,
   "metadata": {},
   "outputs": [],
   "source": [
    "nombre = input(\"Ingrese su nombre: \")\n",
    "apellido = input(\"Su apellido\")\n",
    "edad = int(input(\"edad\"))\n",
    "salario = float(input(\"ingrese el salario\"))\n",
    "query =\"INSERT INTO empleados (nombre, apellido,edad,salario) VALUES (%s,%s,%s,%s)\"\n",
    "valores = (nombre,apellido,edad,salario)"
   ]
  },
  {
   "cell_type": "code",
   "execution_count": null,
   "metadata": {},
   "outputs": [],
   "source": [
    "cursor.execute(query,valores)\n",
    "conexion.commit()"
   ]
  },
  {
   "cell_type": "code",
   "execution_count": 4,
   "metadata": {},
   "outputs": [],
   "source": [
    "cursor.execute(\"SELECT nombre,apellido,edad,salario,salario * 0.5 AS operaciones FROM empleados\")"
   ]
  },
  {
   "cell_type": "code",
   "execution_count": 5,
   "metadata": {},
   "outputs": [
    {
     "name": "stdout",
     "output_type": "stream",
     "text": [
      "('Luis', 'Perez', 20, Decimal('1000.00'), Decimal('500.000'))\n",
      "('Juan', 'Lopez', 32, Decimal('10000.00'), Decimal('5000.000'))\n"
     ]
    }
   ],
   "source": [
    "resultados = cursor.fetchall()\n",
    "for row in resultados:\n",
    "    print(row)\n"
   ]
  }
 ],
 "metadata": {
  "kernelspec": {
   "display_name": "Python 3",
   "language": "python",
   "name": "python3"
  },
  "language_info": {
   "codemirror_mode": {
    "name": "ipython",
    "version": 3
   },
   "file_extension": ".py",
   "mimetype": "text/x-python",
   "name": "python",
   "nbconvert_exporter": "python",
   "pygments_lexer": "ipython3",
   "version": "3.12.0"
  }
 },
 "nbformat": 4,
 "nbformat_minor": 2
}
